{
 "cells": [
  {
   "cell_type": "markdown",
   "id": "17ac9f93-125a-42a5-bed0-43be75723df6",
   "metadata": {},
   "source": [
    "# AssociationTable with word embeddings association - association¶\n",
    "\n",
    "word2vec or Glove? -> Glove because whole corpus relations not only neighboring, useful when dealing with associations?\n",
    "\n"
   ]
  },
  {
   "cell_type": "code",
   "execution_count": 1,
   "id": "b238a22a-a20f-4072-bf57-94f6f0270491",
   "metadata": {},
   "outputs": [
    {
     "name": "stdout",
     "output_type": "stream",
     "text": [
      "Dropped Associations: 11257\n",
      "      Unnamed: 0    CS  sulfuric  drainage  cerebral  causality  midlife  \\\n",
      "0          music  4.31       0.0       0.0       0.0        0.0      0.0   \n",
      "1            way  2.34       0.0       0.0       0.0        0.0      0.0   \n",
      "2           none  2.59       0.0       0.0       0.0        0.0      0.0   \n",
      "3          paper  4.93       0.0       0.0       0.0        0.0      0.0   \n",
      "4           town  4.64       0.0       0.0       0.0        0.0      0.0   \n",
      "...          ...   ...       ...       ...       ...        ...      ...   \n",
      "3693     glamour  2.11       0.0       0.0       0.0        0.0      0.0   \n",
      "3694  windscreen  4.59       0.0       0.0       0.0        0.0      0.0   \n",
      "3695       liner  4.20       0.0       0.0       0.0        0.0      0.0   \n",
      "3696     roadway  4.67       0.0       0.0       0.0        0.0      0.0   \n",
      "3697       lipid  3.04       0.0       0.0       0.0        0.0      0.0   \n",
      "\n",
      "      tummy  stylish  dashboard  ...  wrestling  chronological  microorganism  \\\n",
      "0       0.0   0.0000        0.0  ...        0.0            0.0            0.0   \n",
      "1       0.0   0.0000        0.0  ...        0.0            0.0            0.0   \n",
      "2       0.0   0.0000        0.0  ...        0.0            0.0            0.0   \n",
      "3       0.0   0.0000        0.0  ...        0.0            0.0            0.0   \n",
      "4       0.0   0.0000        0.0  ...        0.0            0.0            0.0   \n",
      "...     ...      ...        ...  ...        ...            ...            ...   \n",
      "3693    0.0   0.6238        0.0  ...        0.0            0.0            0.0   \n",
      "3694    0.0   0.0000        0.0  ...        0.0            0.0            0.0   \n",
      "3695    0.0   0.0000        0.0  ...        0.0            0.0            0.0   \n",
      "3696    0.0   0.0000        0.0  ...        0.0            0.0            0.0   \n",
      "3697    0.0   0.0000        0.0  ...        0.0            0.0            0.0   \n",
      "\n",
      "      unwed  plank  shag  large-sized  sister  simile  daunt  \n",
      "0       0.0    0.0   0.0          0.0     0.0     0.0    0.0  \n",
      "1       0.0    0.0   0.0          0.0     0.0     0.0    0.0  \n",
      "2       0.0    0.0   0.0          0.0     0.0     0.0    0.0  \n",
      "3       0.0    0.0   0.0          0.0     0.0     0.0    0.0  \n",
      "4       0.0    0.0   0.0          0.0     0.0     0.0    0.0  \n",
      "...     ...    ...   ...          ...     ...     ...    ...  \n",
      "3693    0.0    0.0   0.0          0.0     0.0     0.0    0.0  \n",
      "3694    0.0    0.0   0.0          0.0     0.0     0.0    0.0  \n",
      "3695    0.0    0.0   0.0          0.0     0.0     0.0    0.0  \n",
      "3696    0.0    0.0   0.0          0.0     0.0     0.0    0.0  \n",
      "3697    0.0    0.0   0.0          0.0     0.0     0.0    0.0  \n",
      "\n",
      "[3698 rows x 17743 columns]\n"
     ]
    }
   ],
   "source": [
    "# creqating tarrget:assoc dataFrame (wit CS) with cosine similarities as values of assoc cosdis compariosn with each other assoc\n",
    "import pandas as pd\n",
    "import numpy as np\n",
    "import gensim.downloader\n",
    "\n",
    "glove_vectors = gensim.downloader.load('glove-wiki-gigaword-100') # type KeyedVectors<vector_size=100, 400000 keys>\n",
    "\n",
    "#datatype= 'extreme'\n",
    "datatype= 'filtered'\n",
    "#wordclass = 'adj'\n",
    "wordclass = 'nouns'\n",
    "#wordclass = 'verbs'\n",
    "\n",
    "#creating datatable to fill with cosine distances - assoc/targets without embeddings are deleted from dataframe\n",
    "df = pd.read_csv('/compLing/students/hiwi-theses/data/aylin.wahl/MUDCATData/original_data/targets_Brysbaert_'+datatype+'/R1only_types_'+wordclass+'_'+datatype+'_AssocTable.csv')\n",
    "\n",
    "#df = df.loc[:20,:'significant'] #try slice\n",
    "\n",
    "targets = list(df['Unnamed: 0'])\n",
    "assoc = list(df.columns)\n",
    "cs = df['CS']\n",
    "assoc.remove('Unnamed: 0')\n",
    "assoc.remove('CS')\n",
    "\n",
    "df = df.select_dtypes(include=['number']) != 0  #getting truth values for nonzero\n",
    "df['target'] = targets  #adding back targets to nonzero truth table\n",
    "\n",
    "#looping through assoc to find out which ones have embedding\n",
    "removelist = []\n",
    "for a in assoc:\n",
    "    try:\n",
    "        glove_vectors[a]\n",
    "    except KeyError:   #if assoc has no embedding\n",
    "        removelist.append(a)\n",
    "        continue\n",
    "assoc = list(set(assoc) - set(removelist)) #remove assoc withut embeddings from assoc list\n",
    "print('Dropped Associations: ' +str(len(removelist)))\n",
    "\n",
    "embTable = pd.DataFrame(np.zeros((len(list(df.index)), len( ['Unnamed: 0','CS']+assoc))),index= list(df.index), columns = ['Unnamed: 0','CS']+assoc)\n",
    "embTable['CS']=cs\n",
    "embTable['Unnamed: 0'] = targets\n",
    "\n",
    "#looping through targets and their associations for getting embeddings and calculating cosine distance when in original AssocTable non-zero value \n",
    "df =df.drop('CS',axis=1)\n",
    "\n",
    "for t in targets:\n",
    "    #print('TARGET: ' + t)\n",
    "    ind = embTable[embTable['Unnamed: 0'] == t].index[0] #get target inedx\n",
    "    tassoc = df.iloc[ind].index.values[(df.iloc[ind] == True)]# list of assoc for t\n",
    "    tassoc = list(set(tassoc) - set(removelist)) #remove assoc withut embeddings from tassoc list\n",
    "    #print('TASSOC: ' + str(tassoc))\n",
    "    for a1 in tassoc:\n",
    "       # print('A1: ' + a1)\n",
    "        a1cosdis = []\n",
    "        for a2 in tassoc:    \n",
    "            #print('A2: ' + a2)\n",
    "            if a1 != a2: #ruling out a1 == a2 cosdis\n",
    "                a1cosdis.append(round(glove_vectors.distance(a1,a2),3)) #add a1-a2 cosdis to list\n",
    "                #print('CosDis of ' +str(a1)+' and '+str(a2))\n",
    "            else:\n",
    "               # print('Back')\n",
    "                continue\n",
    "        embTable.loc[ind,a1] = np.mean(a1cosdis)   # add average of a1cosdis list to embTable\n",
    "    \n",
    "embTable.to_csv('/compLing/students/hiwi-theses/data/aylin.wahl/MUDCATData/M32_CosDisTable/R1only_types_'+wordclass+'_'+datatype+'_CosDisTable32.csv',index=False)\n",
    "print(embTable)   \n",
    "            "
   ]
  },
  {
   "cell_type": "code",
   "execution_count": null,
   "id": "63d02120-d1d2-4404-8e2d-1011523bf241",
   "metadata": {},
   "outputs": [],
   "source": [
    "baba = 3602\n",
    "old = df.iloc[baba].index.values[(df.iloc[baba] == True)]\n",
    "len(old)"
   ]
  },
  {
   "cell_type": "code",
   "execution_count": null,
   "id": "abcb91ee-a394-4dee-b169-2360d9570e4e",
   "metadata": {},
   "outputs": [],
   "source": [
    "embTabletruth = embTable.select_dtypes(include=['number']) != 0\n",
    "new = embTabletruth.iloc[baba].index.values[(embTabletruth.iloc[baba] == True)]\n",
    "len(new)"
   ]
  },
  {
   "cell_type": "code",
   "execution_count": null,
   "id": "1b052834-b3fa-4db4-a4aa-86f6ba189ee1",
   "metadata": {},
   "outputs": [],
   "source": [
    "print(len(list(set(old)-set(new))))"
   ]
  },
  {
   "cell_type": "code",
   "execution_count": null,
   "id": "bdff53ac-d6a9-4b1a-8489-32f6e3c8a4e9",
   "metadata": {},
   "outputs": [],
   "source": [
    "#indext = df[df['Unnamed: 0'] == 'cheap'].index[0]\n",
    "print(embTable.loc[3601,'kitten'])\n",
    "print(df.loc[3601,'kitten'])"
   ]
  },
  {
   "cell_type": "code",
   "execution_count": null,
   "id": "13139a79-a486-4131-9101-dcec49f1991e",
   "metadata": {},
   "outputs": [],
   "source": []
  }
 ],
 "metadata": {
  "kernelspec": {
   "display_name": "Python 3 (ipykernel)",
   "language": "python",
   "name": "python3"
  },
  "language_info": {
   "codemirror_mode": {
    "name": "ipython",
    "version": 3
   },
   "file_extension": ".py",
   "mimetype": "text/x-python",
   "name": "python",
   "nbconvert_exporter": "python",
   "pygments_lexer": "ipython3",
   "version": "3.10.10"
  }
 },
 "nbformat": 4,
 "nbformat_minor": 5
}
